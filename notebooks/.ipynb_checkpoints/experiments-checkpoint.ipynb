{
 "cells": [
  {
   "cell_type": "code",
   "execution_count": 1,
   "metadata": {},
   "outputs": [],
   "source": [
    "%load_ext autoreload\n",
    "%autoreload 2\n",
    "import pandas as pd\n",
    "import sys\n",
    "if '..' not in sys.path:\n",
    "    sys.path.insert(0,'..')"
   ]
  },
  {
   "cell_type": "code",
   "execution_count": 3,
   "metadata": {},
   "outputs": [],
   "source": [
    "from sklearn.datasets import make_classification\n",
    "X, y = make_classification(n_samples=12_500, n_features=20, n_informative=2, n_redundant=8, shuffle=False, random_state=42)\n",
    "X = pd.DataFrame(X, columns=[f'feat_{idx}' for idx in range(X.shape[1])])\n",
    "y = pd.Series(y)\n",
    "\n",
    "from sklearn.model_selection import train_test_split\n",
    "X_tr, X_ts, y_tr, y_ts = train_test_split(X, y, test_size=.2)\n",
    "X_tr = X_tr.reset_index(drop=True)\n",
    "X_ts = X_ts.reset_index(drop=True)\n",
    "y_tr = y_tr.reset_index(drop=True)\n",
    "y_ts = y_ts.reset_index(drop=True)"
   ]
  },
  {
   "cell_type": "code",
   "execution_count": 102,
   "metadata": {},
   "outputs": [
    {
     "name": "stdout",
     "output_type": "stream",
     "text": [
      "-------------CROSS-VALIDATING MODELS-------------\n"
     ]
    },
    {
     "name": "stderr",
     "output_type": "stream",
     "text": [
      "[Parallel(n_jobs=-1)]: Using backend LokyBackend with 6 concurrent workers.\n",
      "[Parallel(n_jobs=-1)]: Done   1 tasks      | elapsed:    5.1s\n",
      "[Parallel(n_jobs=-1)]: Done   6 tasks      | elapsed:    5.7s\n",
      "[Parallel(n_jobs=-1)]: Done  13 tasks      | elapsed:   42.1s\n",
      "[Parallel(n_jobs=-1)]: Done  20 tasks      | elapsed:  1.1min\n",
      "[Parallel(n_jobs=-1)]: Done  29 tasks      | elapsed:  1.6min\n",
      "[Parallel(n_jobs=-1)]: Done  39 out of  45 | elapsed:  1.8min remaining:   16.9s\n",
      "[Parallel(n_jobs=-1)]: Done  45 out of  45 | elapsed:  2.0min finished\n"
     ]
    },
    {
     "data": {
      "image/png": "[encoded data removed]",
      "text/plain": [
       "<Figure size 504x288 with 2 Axes>"
      ]
     },
     "metadata": {
      "needs_background": "light"
     },
     "output_type": "display_data"
    },
    {
     "data": {
      "text/plain": [
       "({'class_weight': 'balanced',\n",
       "  'max_features': 0.5,\n",
       "  'min_samples_leaf': 10,\n",
       "  'n_estimators': 200,\n",
       "  'n_jobs': -1,\n",
       "  'random_state': 42},\n",
       " 0.9908941016336898)"
      ]
     },
     "execution_count": 102,
     "metadata": {},
     "output_type": "execute_result"
    }
   ],
   "source": [
    "from ml_tools.optimization.classification import optimize_rf\n",
    "optimize_rf(X_tr, y_tr)"
   ]
  },
  {
   "cell_type": "code",
   "execution_count": 103,
   "metadata": {},
   "outputs": [
    {
     "data": {
      "text/html": [
       "<div>\n",
       "<style scoped>\n",
       "    .dataframe tbody tr th:only-of-type {\n",
       "        vertical-align: middle;\n",
       "    }\n",
       "\n",
       "    .dataframe tbody tr th {\n",
       "        vertical-align: top;\n",
       "    }\n",
       "\n",
       "    .dataframe thead th {\n",
       "        text-align: right;\n",
       "    }\n",
       "</style>\n",
       "<table border=\"1\" class=\"dataframe\">\n",
       "  <thead>\n",
       "    <tr style=\"text-align: right;\">\n",
       "      <th></th>\n",
       "      <th>tr</th>\n",
       "      <th>vl</th>\n",
       "    </tr>\n",
       "  </thead>\n",
       "  <tbody>\n",
       "    <tr>\n",
       "      <th>roc_auc</th>\n",
       "      <td>0.998535</td>\n",
       "      <td>0.992052</td>\n",
       "    </tr>\n",
       "    <tr>\n",
       "      <th>log_loss</th>\n",
       "      <td>0.060645</td>\n",
       "      <td>0.091257</td>\n",
       "    </tr>\n",
       "    <tr>\n",
       "      <th>f1-score</th>\n",
       "      <td>0.980590</td>\n",
       "      <td>0.971591</td>\n",
       "    </tr>\n",
       "  </tbody>\n",
       "</table>\n",
       "</div>"
      ],
      "text/plain": [
       "                tr        vl\n",
       "roc_auc   0.998535  0.992052\n",
       "log_loss  0.060645  0.091257\n",
       "f1-score  0.980590  0.971591"
      ]
     },
     "metadata": {},
     "output_type": "display_data"
    }
   ],
   "source": [
    "from sklearn.ensemble import RandomForestClassifier\n",
    "model_rf = RandomForestClassifier(n_estimators=500, class_weight='balanced', max_features=.5, min_samples_leaf=10, n_jobs=-1)\n",
    "\n",
    "from ml_tools.evaluation.classification import evaluate\n",
    "evaluate(model_rf, X_tr, y_tr, X_ts, y_ts)"
   ]
  },
  {
   "cell_type": "code",
   "execution_count": 105,
   "metadata": {},
   "outputs": [
    {
     "name": "stdout",
     "output_type": "stream",
     "text": [
      "dropped: feat_0 -0.0018964694566007394\n",
      "dropped: feat_13 -0.0009567460995205028\n",
      "dropped: feat_19 -0.0008743566992932365\n",
      "dropped: feat_17 -0.0007028010597763692\n",
      "dropped: feat_10 -0.0011222090025390882\n",
      "dropped: feat_11 -0.0028141502262295013\n",
      "dropped: feat_9 -0.0011562789603248615\n",
      "dropped: feat_18 -0.00046319543517330734\n",
      "dropped: feat_5 -0.0002727374650483033\n",
      "dropped: feat_16 -0.0010354213591979343\n",
      "dropped: feat_8 -0.0009449577102639728\n"
     ]
    },
    {
     "data": {
      "text/plain": [
       "<ml_tools.feature_selection.permutation_importance.PermImpElimination at 0x7fdbbf70a9b0>"
      ]
     },
     "execution_count": 105,
     "metadata": {},
     "output_type": "execute_result"
    }
   ],
   "source": [
    "from sklearn.ensemble import RandomForestClassifier\n",
    "model_rf = RandomForestClassifier(n_estimators=500, class_weight='balanced', max_features=.5, min_samples_leaf=10)\n",
    "\n",
    "from ml_tools.feature_selection.permutation_importance import PermImpElimination\n",
    "perm = PermImpElimination(model_rf, X_tr, y_tr)\n",
    "perm.fit(X_ts, y_ts)"
   ]
  },
  {
   "cell_type": "code",
   "execution_count": 4,
   "metadata": {},
   "outputs": [
    {
     "data": {
      "text/plain": [
       "<ml_tools.feature_selection.permutation_importance.PermImpEliminationEli5 at 0x7f20afec24e0>"
      ]
     },
     "execution_count": 4,
     "metadata": {},
     "output_type": "execute_result"
    }
   ],
   "source": [
    "from sklearn.ensemble import RandomForestClassifier\n",
    "model_rf = RandomForestClassifier(n_estimators=500, class_weight='balanced', max_features=.5, min_samples_leaf=10)\n",
    "\n",
    "from ml_tools.feature_selection.permutation_importance import PermImpEliminationEli5\n",
    "perm = PermImpEliminationEli5(model_rf, X_tr, y_tr)\n",
    "perm.fit(X_ts, y_ts)"
   ]
  },
  {
   "cell_type": "code",
   "execution_count": null,
   "metadata": {},
   "outputs": [
    {
     "data": {
      "text/html": [
       "<div>\n",
       "<style scoped>\n",
       "    .dataframe tbody tr th:only-of-type {\n",
       "        vertical-align: middle;\n",
       "    }\n",
       "\n",
       "    .dataframe tbody tr th {\n",
       "        vertical-align: top;\n",
       "    }\n",
       "\n",
       "    .dataframe thead th {\n",
       "        text-align: right;\n",
       "    }\n",
       "</style>\n",
       "<table border=\"1\" class=\"dataframe\">\n",
       "  <thead>\n",
       "    <tr style=\"text-align: right;\">\n",
       "      <th></th>\n",
       "      <th>tr</th>\n",
       "      <th>vl</th>\n",
       "    </tr>\n",
       "  </thead>\n",
       "  <tbody>\n",
       "    <tr>\n",
       "      <th>roc_auc</th>\n",
       "      <td>0.957859</td>\n",
       "      <td>0.939767</td>\n",
       "    </tr>\n",
       "    <tr>\n",
       "      <th>log_loss</th>\n",
       "      <td>0.264465</td>\n",
       "      <td>0.309405</td>\n",
       "    </tr>\n",
       "    <tr>\n",
       "      <th>f1-score</th>\n",
       "      <td>0.887646</td>\n",
       "      <td>0.853237</td>\n",
       "    </tr>\n",
       "  </tbody>\n",
       "</table>\n",
       "</div>"
      ],
      "text/plain": [
       "                tr        vl\n",
       "roc_auc   0.957859  0.939767\n",
       "log_loss  0.264465  0.309405\n",
       "f1-score  0.887646  0.853237"
      ]
     },
     "metadata": {},
     "output_type": "display_data"
    }
   ],
   "source": [
    "X_tr_sub = perm.transform(X_tr)\n",
    "X_ts_sub = perm.transform(X_ts)\n",
    "\n",
    "from sklearn.ensemble import RandomForestClassifier\n",
    "model_rf = RandomForestClassifier(n_estimators=500, class_weight='balanced', max_features=.5, min_samples_leaf=10)\n",
    "\n",
    "from ml_tools.evaluation.classification import evaluate\n",
    "evaluate(model_rf, X_tr_sub, y_tr, X_ts_sub, y_ts, imp=True)"
   ]
  }
 ],
 "metadata": {
  "kernelspec": {
   "display_name": "Python 3",
   "language": "python",
   "name": "python3"
  },
  "language_info": {
   "codemirror_mode": {
    "name": "ipython",
    "version": 3
   },
   "file_extension": ".py",
   "mimetype": "text/x-python",
   "name": "python",
   "nbconvert_exporter": "python",
   "pygments_lexer": "ipython3",
   "version": "3.6.7"
  }
 },
 "nbformat": 4,
 "nbformat_minor": 2
}
