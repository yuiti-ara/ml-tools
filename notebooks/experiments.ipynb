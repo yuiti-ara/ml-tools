{
 "cells": [
  {
   "cell_type": "code",
   "execution_count": 1,
   "metadata": {},
   "outputs": [],
   "source": [
    "%load_ext autoreload\n",
    "%autoreload 2\n",
    "import pandas as pd\n",
    "import sys\n",
    "if '..' not in sys.path:\n",
    "    sys.path.insert(0,'..')"
   ]
  },
  {
   "cell_type": "code",
   "execution_count": 17,
   "metadata": {},
   "outputs": [],
   "source": [
    "from sklearn.datasets import make_classification\n",
    "X, y = make_classification(n_samples=50_000, n_features=20, n_informative=8, n_redundant=8, shuffle=False, random_state=42)\n",
    "X = pd.DataFrame(X, columns=[f'feat_{idx}' for idx in range(X.shape[1])])\n",
    "y = pd.Series(y)\n",
    "\n",
    "from sklearn.model_selection import train_test_split\n",
    "X_tr, X_ts, y_tr, y_ts = train_test_split(X, y, test_size=.1)\n",
    "X_tr = X_tr.reset_index(drop=True)\n",
    "X_ts = X_ts.reset_index(drop=True)\n",
    "y_tr = y_tr.reset_index(drop=True)\n",
    "y_ts = y_ts.reset_index(drop=True)"
   ]
  },
  {
   "cell_type": "code",
   "execution_count": 22,
   "metadata": {},
   "outputs": [
    {
     "name": "stdout",
     "output_type": "stream",
     "text": [
      "-------------FITTING MODELS-------------\n"
     ]
    },
    {
     "name": "stderr",
     "output_type": "stream",
     "text": [
      "[Parallel(n_jobs=-1)]: Using backend LokyBackend with 6 concurrent workers.\n",
      "[Parallel(n_jobs=-1)]: Done   1 tasks      | elapsed:    7.9s\n",
      "[Parallel(n_jobs=-1)]: Done   6 tasks      | elapsed:  1.2min\n",
      "[Parallel(n_jobs=-1)]: Done  13 tasks      | elapsed:  2.1min\n",
      "[Parallel(n_jobs=-1)]: Done  17 out of  25 | elapsed:  2.4min remaining:  1.1min\n",
      "[Parallel(n_jobs=-1)]: Done  20 out of  25 | elapsed:  2.6min remaining:   38.8s\n",
      "[Parallel(n_jobs=-1)]: Done  23 out of  25 | elapsed:  2.8min remaining:   14.4s\n",
      "[Parallel(n_jobs=-1)]: Done  25 out of  25 | elapsed:  2.8min finished\n",
      "[Parallel(n_jobs=-1)]: Using backend LokyBackend with 6 concurrent workers.\n"
     ]
    },
    {
     "name": "stdout",
     "output_type": "stream",
     "text": [
      "-------------SCORING MODELS-------------\n"
     ]
    },
    {
     "name": "stderr",
     "output_type": "stream",
     "text": [
      "[Parallel(n_jobs=-1)]: Done  25 out of  25 | elapsed:    0.8s finished\n"
     ]
    },
    {
     "data": {
      "image/png": "[encoded data removed]",
      "text/plain": [
       "<Figure size 288x288 with 2 Axes>"
      ]
     },
     "metadata": {
      "needs_background": "light"
     },
     "output_type": "display_data"
    },
    {
     "name": "stdout",
     "output_type": "stream",
     "text": [
      "CPU times: user 1.24 s, sys: 534 ms, total: 1.78 s\n",
      "Wall time: 2min 47s\n"
     ]
    },
    {
     "data": {
      "text/plain": [
       "(RandomForestClassifier(bootstrap=True, class_weight='balanced',\n",
       "             criterion='gini', max_depth=None, max_features=0.5,\n",
       "             max_leaf_nodes=None, min_impurity_decrease=0.0,\n",
       "             min_impurity_split=None, min_samples_leaf=10,\n",
       "             min_samples_split=2, min_weight_fraction_leaf=0.0,\n",
       "             n_estimators=200, n_jobs=1, oob_score=False, random_state=42,\n",
       "             verbose=0, warm_start=False), 0.9947120145659614)"
      ]
     },
     "execution_count": 22,
     "metadata": {},
     "output_type": "execute_result"
    }
   ],
   "source": [
    "from ml_tools.rf_hacks import set_rf_samples\n",
    "set_rf_samples()\n",
    "\n",
    "from sklearn.ensemble import RandomForestClassifier\n",
    "model_rf = RandomForestClassifier()\n",
    "\n",
    "from ml_tools.optimization.classification import optimize_rf\n",
    "%time optimize_rf(model_rf, X_tr, y_tr, X_ts, y_ts)"
   ]
  },
  {
   "cell_type": "code",
   "execution_count": 23,
   "metadata": {},
   "outputs": [
    {
     "name": "stdout",
     "output_type": "stream",
     "text": [
      "-------------FITTING MODELS-------------\n"
     ]
    },
    {
     "name": "stderr",
     "output_type": "stream",
     "text": [
      "[Parallel(n_jobs=-1)]: Using backend LokyBackend with 6 concurrent workers.\n",
      "[Parallel(n_jobs=-1)]: Done   1 tasks      | elapsed:    6.6s\n",
      "[Parallel(n_jobs=-1)]: Done   6 tasks      | elapsed:  1.2min\n",
      "[Parallel(n_jobs=-1)]: Done  13 tasks      | elapsed:  2.0min\n",
      "[Parallel(n_jobs=-1)]: Done  17 out of  25 | elapsed:  2.4min remaining:  1.1min\n",
      "[Parallel(n_jobs=-1)]: Done  20 out of  25 | elapsed:  2.6min remaining:   38.8s\n",
      "[Parallel(n_jobs=-1)]: Done  23 out of  25 | elapsed:  2.8min remaining:   14.4s\n",
      "[Parallel(n_jobs=-1)]: Done  25 out of  25 | elapsed:  2.8min finished\n",
      "[Parallel(n_jobs=-1)]: Using backend LokyBackend with 6 concurrent workers.\n"
     ]
    },
    {
     "name": "stdout",
     "output_type": "stream",
     "text": [
      "-------------SCORING MODELS-------------\n"
     ]
    },
    {
     "name": "stderr",
     "output_type": "stream",
     "text": [
      "[Parallel(n_jobs=-1)]: Done  25 out of  25 | elapsed:    0.8s finished\n"
     ]
    },
    {
     "data": {
      "image/png": "[encoded data removed]",
      "text/plain": [
       "<Figure size 288x288 with 2 Axes>"
      ]
     },
     "metadata": {
      "needs_background": "light"
     },
     "output_type": "display_data"
    },
    {
     "name": "stdout",
     "output_type": "stream",
     "text": [
      "CPU times: user 1.17 s, sys: 326 ms, total: 1.49 s\n",
      "Wall time: 2min 46s\n"
     ]
    },
    {
     "data": {
      "text/plain": [
       "(RandomForestClassifier(bootstrap=True, class_weight='balanced',\n",
       "             criterion='gini', max_depth=None, max_features=0.5,\n",
       "             max_leaf_nodes=None, min_impurity_decrease=0.0,\n",
       "             min_impurity_split=None, min_samples_leaf=10,\n",
       "             min_samples_split=2, min_weight_fraction_leaf=0.0,\n",
       "             n_estimators=200, n_jobs=1, oob_score=False, random_state=42,\n",
       "             verbose=0, warm_start=False), 0.9947120145659614)"
      ]
     },
     "execution_count": 23,
     "metadata": {},
     "output_type": "execute_result"
    }
   ],
   "source": [
    "from ml_tools.rf_hacks import reset_rf_samples\n",
    "reset_rf_samples()\n",
    "\n",
    "from sklearn.ensemble import RandomForestClassifier\n",
    "model_rf = RandomForestClassifier()\n",
    "\n",
    "from ml_tools.optimization.classification import optimize_rf\n",
    "%time optimize_rf(model_rf, X_tr, y_tr, X_ts, y_ts)"
   ]
  },
  {
   "cell_type": "code",
   "execution_count": 24,
   "metadata": {},
   "outputs": [
    {
     "name": "stdout",
     "output_type": "stream",
     "text": [
      "-------------FITTING MODELS-------------\n"
     ]
    },
    {
     "name": "stderr",
     "output_type": "stream",
     "text": [
      "[Parallel(n_jobs=-1)]: Using backend LokyBackend with 6 concurrent workers.\n",
      "[Parallel(n_jobs=-1)]: Done   1 tasks      | elapsed:    3.3s\n",
      "[Parallel(n_jobs=-1)]: Done   6 tasks      | elapsed:   27.2s\n",
      "[Parallel(n_jobs=-1)]: Done  13 tasks      | elapsed:   44.9s\n",
      "[Parallel(n_jobs=-1)]: Done  17 out of  25 | elapsed:   48.2s remaining:   22.7s\n",
      "[Parallel(n_jobs=-1)]: Done  20 out of  25 | elapsed:   53.9s remaining:   13.5s\n",
      "[Parallel(n_jobs=-1)]: Done  23 out of  25 | elapsed:   57.3s remaining:    5.0s\n",
      "[Parallel(n_jobs=-1)]: Done  25 out of  25 | elapsed:   59.4s finished\n",
      "[Parallel(n_jobs=-1)]: Using backend LokyBackend with 6 concurrent workers.\n"
     ]
    },
    {
     "name": "stdout",
     "output_type": "stream",
     "text": [
      "-------------SCORING MODELS-------------\n"
     ]
    },
    {
     "name": "stderr",
     "output_type": "stream",
     "text": [
      "[Parallel(n_jobs=-1)]: Done  14 out of  25 | elapsed:    0.5s remaining:    0.4s\n",
      "[Parallel(n_jobs=-1)]: Done  25 out of  25 | elapsed:    0.7s finished\n"
     ]
    },
    {
     "data": {
      "image/png": "[encoded data removed]",
      "text/plain": [
       "<Figure size 288x288 with 2 Axes>"
      ]
     },
     "metadata": {
      "needs_background": "light"
     },
     "output_type": "display_data"
    },
    {
     "name": "stdout",
     "output_type": "stream",
     "text": [
      "CPU times: user 1.05 s, sys: 442 ms, total: 1.49 s\n",
      "Wall time: 1min\n"
     ]
    },
    {
     "data": {
      "text/plain": [
       "(RandomForestClassifier(bootstrap=True, class_weight='balanced',\n",
       "             criterion='gini', max_depth=None, max_features=0.5,\n",
       "             max_leaf_nodes=None, min_impurity_decrease=0.0,\n",
       "             min_impurity_split=None, min_samples_leaf=10,\n",
       "             min_samples_split=2, min_weight_fraction_leaf=0.0,\n",
       "             n_estimators=200, n_jobs=1, oob_score=False, random_state=42,\n",
       "             verbose=0, warm_start=False), 0.9935538676713968)"
      ]
     },
     "execution_count": 24,
     "metadata": {},
     "output_type": "execute_result"
    }
   ],
   "source": [
    "from sklearn.ensemble import RandomForestClassifier\n",
    "model_rf = RandomForestClassifier()\n",
    "\n",
    "from ml_tools.optimization.classification import optimize_rf\n",
    "%time optimize_rf(model_rf, X_tr.head(20_000), y_tr.head(20_000), X_ts, y_ts)"
   ]
  }
 ],
 "metadata": {
  "kernelspec": {
   "display_name": "Python 3",
   "language": "python",
   "name": "python3"
  },
  "language_info": {
   "codemirror_mode": {
    "name": "ipython",
    "version": 3
   },
   "file_extension": ".py",
   "mimetype": "text/x-python",
   "name": "python",
   "nbconvert_exporter": "python",
   "pygments_lexer": "ipython3",
   "version": "3.6.7"
  }
 },
 "nbformat": 4,
 "nbformat_minor": 2
}
